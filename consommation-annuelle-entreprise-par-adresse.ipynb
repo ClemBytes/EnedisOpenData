{
 "cells": [
  {
   "cell_type": "code",
   "execution_count": 1,
   "id": "b754efff",
   "metadata": {},
   "outputs": [],
   "source": [
    "import pandas as pd"
   ]
  },
  {
   "cell_type": "code",
   "execution_count": 2,
   "id": "f50dcc96",
   "metadata": {},
   "outputs": [],
   "source": [
    "df = pd.read_csv(\"./consommation-annuelle-entreprise-par-adresse.csv\", sep=';')"
   ]
  },
  {
   "cell_type": "code",
   "execution_count": 3,
   "id": "f9ee303a",
   "metadata": {},
   "outputs": [
    {
     "data": {
      "text/html": [
       "<div>\n",
       "<style scoped>\n",
       "    .dataframe tbody tr th:only-of-type {\n",
       "        vertical-align: middle;\n",
       "    }\n",
       "\n",
       "    .dataframe tbody tr th {\n",
       "        vertical-align: top;\n",
       "    }\n",
       "\n",
       "    .dataframe thead th {\n",
       "        text-align: right;\n",
       "    }\n",
       "</style>\n",
       "<table border=\"1\" class=\"dataframe\">\n",
       "  <thead>\n",
       "    <tr style=\"text-align: right;\">\n",
       "      <th></th>\n",
       "      <th>Année</th>\n",
       "      <th>Code IRIS</th>\n",
       "      <th>Nom IRIS</th>\n",
       "      <th>Numéro de voie</th>\n",
       "      <th>Indice de répétition</th>\n",
       "      <th>Type de voie</th>\n",
       "      <th>Libellé de voie</th>\n",
       "      <th>Secteur d'activité</th>\n",
       "      <th>Catégorie de consommation</th>\n",
       "      <th>NAF2</th>\n",
       "      <th>Adresse</th>\n",
       "      <th>Code Commune</th>\n",
       "      <th>Nom Commune</th>\n",
       "      <th>Nombre de sites</th>\n",
       "      <th>Consommation annuelle totale de l'adresse (MWh)</th>\n",
       "      <th>Code EPCI</th>\n",
       "      <th>Code Département</th>\n",
       "      <th>Code Région</th>\n",
       "      <th>Tri des adresses</th>\n",
       "    </tr>\n",
       "  </thead>\n",
       "  <tbody>\n",
       "    <tr>\n",
       "      <th>0</th>\n",
       "      <td>2018</td>\n",
       "      <td>315555001</td>\n",
       "      <td>Zones d'Activites Sud</td>\n",
       "      <td>41</td>\n",
       "      <td>NaN</td>\n",
       "      <td>BOULEVARD</td>\n",
       "      <td>DE THIBAULT</td>\n",
       "      <td>TERTIAIRE</td>\n",
       "      <td>ENT</td>\n",
       "      <td>NaN</td>\n",
       "      <td>41 BOULEVARD DE THIBAULT</td>\n",
       "      <td>31555</td>\n",
       "      <td>Toulouse</td>\n",
       "      <td>1</td>\n",
       "      <td>39.460</td>\n",
       "      <td>243100518.0</td>\n",
       "      <td>31.0</td>\n",
       "      <td>76.0</td>\n",
       "      <td>797105</td>\n",
       "    </tr>\n",
       "    <tr>\n",
       "      <th>1</th>\n",
       "      <td>2022</td>\n",
       "      <td>732570000</td>\n",
       "      <td>Les Belleville (commune non irisée)</td>\n",
       "      <td>NaN</td>\n",
       "      <td>NaN</td>\n",
       "      <td>NaN</td>\n",
       "      <td>R U E   D U   S L A L O M</td>\n",
       "      <td>TERTIAIRE</td>\n",
       "      <td>ENT</td>\n",
       "      <td>82.0</td>\n",
       "      <td>R U E D U S L A L O M</td>\n",
       "      <td>73257</td>\n",
       "      <td>Les Belleville</td>\n",
       "      <td>1</td>\n",
       "      <td>8.792</td>\n",
       "      <td>200023299.0</td>\n",
       "      <td>73.0</td>\n",
       "      <td>84.0</td>\n",
       "      <td>210970</td>\n",
       "    </tr>\n",
       "    <tr>\n",
       "      <th>2</th>\n",
       "      <td>2022</td>\n",
       "      <td>786500104</td>\n",
       "      <td>Lac Inférieur</td>\n",
       "      <td>2</td>\n",
       "      <td>NaN</td>\n",
       "      <td>RUE</td>\n",
       "      <td>DE VERDUN</td>\n",
       "      <td>INDUSTRIE</td>\n",
       "      <td>ENT</td>\n",
       "      <td>41.0</td>\n",
       "      <td>2 RUE DE VERDUN</td>\n",
       "      <td>78650</td>\n",
       "      <td>Le Vésinet</td>\n",
       "      <td>1</td>\n",
       "      <td>32.245</td>\n",
       "      <td>200058519.0</td>\n",
       "      <td>78.0</td>\n",
       "      <td>11.0</td>\n",
       "      <td>209056</td>\n",
       "    </tr>\n",
       "    <tr>\n",
       "      <th>3</th>\n",
       "      <td>2022</td>\n",
       "      <td>322080000</td>\n",
       "      <td>Lectoure (commune non irisée)</td>\n",
       "      <td>NaN</td>\n",
       "      <td>NaN</td>\n",
       "      <td>NaN</td>\n",
       "      <td>P L A C E B O U E L A P E Y R E R E</td>\n",
       "      <td>TERTIAIRE</td>\n",
       "      <td>ENT</td>\n",
       "      <td>70.0</td>\n",
       "      <td>P L A C E B O U E L A P E Y R E R E</td>\n",
       "      <td>32208</td>\n",
       "      <td>Lectoure</td>\n",
       "      <td>1</td>\n",
       "      <td>991.445</td>\n",
       "      <td>243200391.0</td>\n",
       "      <td>32.0</td>\n",
       "      <td>76.0</td>\n",
       "      <td>209161</td>\n",
       "    </tr>\n",
       "    <tr>\n",
       "      <th>4</th>\n",
       "      <td>2022</td>\n",
       "      <td>593390101</td>\n",
       "      <td>Centre</td>\n",
       "      <td>NaN</td>\n",
       "      <td>NaN</td>\n",
       "      <td>RUE</td>\n",
       "      <td>LEON GAMBETTA</td>\n",
       "      <td>TERTIAIRE</td>\n",
       "      <td>ENT</td>\n",
       "      <td>88.0</td>\n",
       "      <td>RUE LEON GAMBETTA</td>\n",
       "      <td>59339</td>\n",
       "      <td>Leers</td>\n",
       "      <td>1</td>\n",
       "      <td>152.932</td>\n",
       "      <td>200093201.0</td>\n",
       "      <td>59.0</td>\n",
       "      <td>32.0</td>\n",
       "      <td>209242</td>\n",
       "    </tr>\n",
       "  </tbody>\n",
       "</table>\n",
       "</div>"
      ],
      "text/plain": [
       "   Année  Code IRIS                             Nom IRIS Numéro de voie  \\\n",
       "0   2018  315555001                Zones d'Activites Sud             41   \n",
       "1   2022  732570000  Les Belleville (commune non irisée)            NaN   \n",
       "2   2022  786500104                        Lac Inférieur              2   \n",
       "3   2022  322080000        Lectoure (commune non irisée)            NaN   \n",
       "4   2022  593390101                               Centre            NaN   \n",
       "\n",
       "  Indice de répétition Type de voie                      Libellé de voie  \\\n",
       "0                  NaN    BOULEVARD                          DE THIBAULT   \n",
       "1                  NaN          NaN            R U E   D U   S L A L O M   \n",
       "2                  NaN          RUE                            DE VERDUN   \n",
       "3                  NaN          NaN  P L A C E B O U E L A P E Y R E R E   \n",
       "4                  NaN          RUE                        LEON GAMBETTA   \n",
       "\n",
       "  Secteur d'activité Catégorie de consommation  NAF2  \\\n",
       "0          TERTIAIRE                       ENT   NaN   \n",
       "1          TERTIAIRE                       ENT  82.0   \n",
       "2          INDUSTRIE                       ENT  41.0   \n",
       "3          TERTIAIRE                       ENT  70.0   \n",
       "4          TERTIAIRE                       ENT  88.0   \n",
       "\n",
       "                               Adresse  Code Commune     Nom Commune  \\\n",
       "0             41 BOULEVARD DE THIBAULT         31555        Toulouse   \n",
       "1                R U E D U S L A L O M         73257  Les Belleville   \n",
       "2                      2 RUE DE VERDUN         78650      Le Vésinet   \n",
       "3  P L A C E B O U E L A P E Y R E R E         32208        Lectoure   \n",
       "4                    RUE LEON GAMBETTA         59339           Leers   \n",
       "\n",
       "   Nombre de sites  Consommation annuelle totale de l'adresse (MWh)  \\\n",
       "0                1                                           39.460   \n",
       "1                1                                            8.792   \n",
       "2                1                                           32.245   \n",
       "3                1                                          991.445   \n",
       "4                1                                          152.932   \n",
       "\n",
       "     Code EPCI  Code Département  Code Région  Tri des adresses  \n",
       "0  243100518.0              31.0         76.0            797105  \n",
       "1  200023299.0              73.0         84.0            210970  \n",
       "2  200058519.0              78.0         11.0            209056  \n",
       "3  243200391.0              32.0         76.0            209161  \n",
       "4  200093201.0              59.0         32.0            209242  "
      ]
     },
     "execution_count": 3,
     "metadata": {},
     "output_type": "execute_result"
    }
   ],
   "source": [
    "df.head()"
   ]
  },
  {
   "cell_type": "code",
   "execution_count": 4,
   "id": "6cc9745f",
   "metadata": {},
   "outputs": [
    {
     "data": {
      "text/plain": [
       "Année                                                int64\n",
       "Code IRIS                                           object\n",
       "Nom IRIS                                            object\n",
       "Numéro de voie                                      object\n",
       "Indice de répétition                                object\n",
       "Type de voie                                        object\n",
       "Libellé de voie                                     object\n",
       "Secteur d'activité                                  object\n",
       "Catégorie de consommation                           object\n",
       "NAF2                                               float64\n",
       "Adresse                                             object\n",
       "Code Commune                                         int64\n",
       "Nom Commune                                         object\n",
       "Nombre de sites                                      int64\n",
       "Consommation annuelle totale de l'adresse (MWh)    float64\n",
       "Code EPCI                                          float64\n",
       "Code Département                                   float64\n",
       "Code Région                                        float64\n",
       "Tri des adresses                                     int64\n",
       "dtype: object"
      ]
     },
     "execution_count": 4,
     "metadata": {},
     "output_type": "execute_result"
    }
   ],
   "source": [
    "df.dtypes"
   ]
  },
  {
   "cell_type": "code",
   "execution_count": 18,
   "id": "40bc0ec4",
   "metadata": {},
   "outputs": [
    {
     "data": {
      "text/plain": [
       "count    2289296\n",
       "mean        2021\n",
       "std            1\n",
       "min         2018\n",
       "25%         2020\n",
       "50%         2022\n",
       "75%         2023\n",
       "max         2024\n",
       "Name: Année, dtype: int64"
      ]
     },
     "execution_count": 18,
     "metadata": {},
     "output_type": "execute_result"
    }
   ],
   "source": [
    "df[\"Année\"].describe().astype(int)"
   ]
  },
  {
   "cell_type": "code",
   "execution_count": 7,
   "id": "33f4e2d0",
   "metadata": {},
   "outputs": [
    {
     "data": {
      "text/plain": [
       "Secteur d'activité\n",
       "TERTIAIRE      1753884\n",
       "INDUSTRIE       429996\n",
       "AGRICULTURE     102300\n",
       "INCONNU           3116\n",
       "Name: count, dtype: int64"
      ]
     },
     "execution_count": 7,
     "metadata": {},
     "output_type": "execute_result"
    }
   ],
   "source": [
    "df[\"Secteur d\\'activité\"].value_counts()"
   ]
  },
  {
   "cell_type": "code",
   "execution_count": 8,
   "id": "a41edea2",
   "metadata": {},
   "outputs": [
    {
     "data": {
      "text/plain": [
       "count     2289296\n",
       "unique          1\n",
       "top           ENT\n",
       "freq      2289296\n",
       "Name: Catégorie de consommation, dtype: object"
      ]
     },
     "execution_count": 8,
     "metadata": {},
     "output_type": "execute_result"
    }
   ],
   "source": [
    "df[\"Catégorie de consommation\"].describe()"
   ]
  },
  {
   "cell_type": "code",
   "execution_count": 17,
   "id": "8aab21ce",
   "metadata": {},
   "outputs": [
    {
     "data": {
      "text/plain": [
       "count    2289296\n",
       "mean           1\n",
       "std            0\n",
       "min            1\n",
       "25%            1\n",
       "50%            1\n",
       "75%            1\n",
       "max           60\n",
       "Name: Nombre de sites, dtype: int64"
      ]
     },
     "execution_count": 17,
     "metadata": {},
     "output_type": "execute_result"
    }
   ],
   "source": [
    "df[\"Nombre de sites\"].describe().astype(int)"
   ]
  },
  {
   "cell_type": "code",
   "execution_count": null,
   "id": "9802a123",
   "metadata": {},
   "outputs": [],
   "source": []
  }
 ],
 "metadata": {
  "kernelspec": {
   "display_name": "Python 3",
   "language": "python",
   "name": "python3"
  },
  "language_info": {
   "codemirror_mode": {
    "name": "ipython",
    "version": 3
   },
   "file_extension": ".py",
   "mimetype": "text/x-python",
   "name": "python",
   "nbconvert_exporter": "python",
   "pygments_lexer": "ipython3",
   "version": "3.11.2"
  }
 },
 "nbformat": 4,
 "nbformat_minor": 5
}
